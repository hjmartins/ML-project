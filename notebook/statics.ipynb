{
 "cells": [
  {
   "cell_type": "code",
   "execution_count": null,
   "id": "a5e1e3c9",
   "metadata": {},
   "outputs": [],
   "source": [
    "from scipy.stats import shapiro, stats\n",
    "import seaborn as sns\n",
    "import pandas as pd\n",
    "import numpy as np\n",
    "import plotly.express as px\n",
    "import matplotlib.pyplot as plt\n",
    "from scipy.stats import f_oneway, MultiComparison\n",
    "import statsmodels.stats.multicomp as mc\n"
   ]
  },
  {
   "cell_type": "code",
   "execution_count": 3,
   "id": "3e26e96a",
   "metadata": {},
   "outputs": [],
   "source": [
    "def plot_model_performance(random_forest, svm, knn, logistic_regression, mlp, gradient_boosting):\n",
    "    shapiro(random_forest),shapiro(svm), shapiro(knn), shapiro(logistic_regression), shapiro(mlp), shapiro(gradient_boosting)\n",
    "    sns.displot(random_forest, kind='kde',fill=True)\n",
    "    plt.title('Random Forest Distribution')\n",
    "    plt.show()\n",
    "    sns.displot(svm, kind='kde', fill=True)\n",
    "    plt.title('SVM Distribution')\n",
    "    plt.show()\n",
    "    sns.displot(knn, kind='kde', fill=True)\n",
    "    plt.title('KNN Distribution')\n",
    "    plt.show()\n",
    "    sns.displot(logistic_regression, kind='kde', fill=True)\n",
    "    plt.title('Logistic Regression Distribution')\n",
    "    plt.show()\n",
    "    sns.displot(mlp, kind='kde', fill=True)\n",
    "    plt.title('MLP Distribution')\n",
    "    plt.show()\n",
    "    sns.displot(gradient_boosting, kind='kde', fill=True)\n",
    "    plt.title('Gradient Boosting Distribution')\n",
    "    plt.show()"
   ]
  },
  {
   "cell_type": "code",
   "execution_count": 1,
   "id": "0707323f",
   "metadata": {},
   "outputs": [],
   "source": [
    "def performance_comparison_plot(df_algoritmos):\n",
    "    for model in df_algoritmos['model'].unique():\n",
    "        plt.figure(10,6)\n",
    "        sns.boxplot(x='model', y='accuracy', data=df_algoritmos[df_algoritmos['model'] == model])\n",
    "        sns.swarmplot(x='model', y='accuracy', data=df_algoritmos[df_algoritmos['model'] == model], color='.25')\n",
    "        plt.xticks(rotation=45)\n",
    "        plt.title(f'Model Performance Comparison - {model}')\n",
    "        plt.show()\n",
    "\n",
    "\n",
    "\n",
    "\n"
   ]
  },
  {
   "cell_type": "code",
   "execution_count": 2,
   "id": "d770f781",
   "metadata": {},
   "outputs": [],
   "source": [
    "def confiance_tukeyhsd(df_algoritmos, tukey_result):\n",
    "    tukey_result.plot_simultaneous(comparison_name=None, xlabel='Mean Accuracy', ylabel='Model')\n",
    "    plt.title('Tukey HSD Confidence Intervals')\n",
    "    plt.show()"
   ]
  },
  {
   "cell_type": "code",
   "execution_count": null,
   "id": "1c45b14a",
   "metadata": {},
   "outputs": [],
   "source": [
    "def teste_hipotese(random_forest, svm, knn, logistic_regression, mlp, gradient_boosting):\n",
    "    anova_result = f_oneway(random_forest, svm, knn, logistic_regression, mlp, gradient_boosting)\n",
    "    print(\"ANOVA test result:\", anova_result)\n",
    "    if anova_result.pvalue < 0.05:\n",
    "        print(\"Reject the null hypothesis: At least one model's performance is significantly different.\")\n",
    "    else:\n",
    "        print(\"Fail to reject the null hypothesis: No significant difference in model performances.\")\n",
    "\n",
    "    algoritmos = {'accuracy': np.concatenate([random_forest, svm, knn, logistic_regression, mlp, gradient_boosting]),\n",
    "                  'model': ['Random Forest'] * len(random_forest) + ['SVM'] * len(svm) + ['KNN'] * len(knn) +\n",
    "                           ['Logistic Regression'] * len(logistic_regression) + ['MLP'] * len(mlp) +\n",
    "                           ['Gradient Boosting'] * len(gradient_boosting)}\n",
    "    df_algoritmos = pd.DataFrame(algoritmos)\n",
    "    compare = MultiComparison(df_algoritmos['accuracy'], df_algoritmos['model'])\n",
    "    tukey_result = compare.tukeyhsd()\n",
    "    print(tukey_result)\n",
    "    print(tukey_result.summary())\n",
    "    perfomance_comparison_plot(df_algoritmos)\n",
    "    confiance_tukeyhsd(df_algoritmos, tukey_result)\n",
    "    "
   ]
  }
 ],
 "metadata": {
  "kernelspec": {
   "display_name": "Python 3",
   "language": "python",
   "name": "python3"
  },
  "language_info": {
   "codemirror_mode": {
    "name": "ipython",
    "version": 3
   },
   "file_extension": ".py",
   "mimetype": "text/x-python",
   "name": "python",
   "nbconvert_exporter": "python",
   "pygments_lexer": "ipython3",
   "version": "3.13.3"
  }
 },
 "nbformat": 4,
 "nbformat_minor": 5
}
